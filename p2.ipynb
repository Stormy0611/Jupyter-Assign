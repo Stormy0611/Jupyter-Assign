{
 "cells": [
  {
   "attachments": {},
   "cell_type": "markdown",
   "id": "08b0ddd7",
   "metadata": {},
   "source": [
    "<p style=\"font-size:xx-large;color:red;font-weight:bold\">First, please put your surname and username: 👉 HERE 👈</p>\n",
    "\n",
    "<p style=\"font-size:xx-large;color:red;font-weight:bold;margin-top:1ex;margin-bottom:1ex\">Second, please run these 👇</p>"
   ]
  },
  {
   "cell_type": "code",
   "execution_count": 3,
   "id": "606a8fd6",
   "metadata": {},
   "outputs": [
    {
     "data": {
      "text/html": [
       "<style>\n",
       "#notebook-container {width:100%}\n",
       "div.prompt {min-width:10ex}\n",
       ".rendered_html th, .rendered_html td {text-align:left}\n",
       "</style>\n"
      ],
      "text/plain": [
       "<IPython.core.display.HTML object>"
      ]
     },
     "metadata": {},
     "output_type": "display_data"
    }
   ],
   "source": [
    "%%html\n",
    "<style>\n",
    "#notebook-container {width:100%}\n",
    "div.prompt {min-width:10ex}\n",
    ".rendered_html th, .rendered_html td {text-align:left}\n",
    "</style>"
   ]
  },
  {
   "cell_type": "code",
   "execution_count": 4,
   "id": "ed37486a",
   "metadata": {},
   "outputs": [
    {
     "ename": "ModuleNotFoundError",
     "evalue": "No module named 'numpy'",
     "output_type": "error",
     "traceback": [
      "\u001b[1;31m---------------------------------------------------------------------------\u001b[0m",
      "\u001b[1;31mModuleNotFoundError\u001b[0m                       Traceback (most recent call last)",
      "Cell \u001b[1;32mIn[4], line 5\u001b[0m\n\u001b[0;32m      2\u001b[0m \u001b[39mfrom\u001b[39;00m \u001b[39mIPython\u001b[39;00m\u001b[39m.\u001b[39;00m\u001b[39mdisplay\u001b[39;00m \u001b[39mimport\u001b[39;00m display, Latex, Math\n\u001b[0;32m      3\u001b[0m InteractiveShell\u001b[39m.\u001b[39mast_node_interactivity \u001b[39m=\u001b[39m \u001b[39m'\u001b[39m\u001b[39mall\u001b[39m\u001b[39m'\u001b[39m\n\u001b[1;32m----> 5\u001b[0m \u001b[39mimport\u001b[39;00m \u001b[39mnumpy\u001b[39;00m \u001b[39mas\u001b[39;00m \u001b[39mnp\u001b[39;00m\n\u001b[0;32m      7\u001b[0m \u001b[39mimport\u001b[39;00m \u001b[39msympy\u001b[39;00m \u001b[39mas\u001b[39;00m \u001b[39msp\u001b[39;00m\n\u001b[0;32m      8\u001b[0m sp\u001b[39m.\u001b[39minit_session()\n",
      "\u001b[1;31mModuleNotFoundError\u001b[0m: No module named 'numpy'"
     ]
    }
   ],
   "source": [
    "from IPython.core.interactiveshell import InteractiveShell\n",
    "from IPython.display import display, Latex, Math\n",
    "InteractiveShell.ast_node_interactivity = 'all'\n",
    "\n",
    "import numpy as np\n",
    "\n",
    "import sympy as sp\n",
    "sp.init_session()"
   ]
  },
  {
   "attachments": {},
   "cell_type": "markdown",
   "id": "2d6d47b8",
   "metadata": {},
   "source": [
    "<p style=\"font-size:xx-large;color:red;font-weight:bold;margin-top:1ex\">Second, please run these 👆 Note how SymPy and NumPy are imported. </p>\n",
    "\n",
    "$\\newcommand{\\bra}[1]{\\mathinner{\\langle{#1}|}}$\n",
    "$\\newcommand{\\ket}[1]{\\mathinner{|{#1}\\rangle}}$\n",
    "$\\newcommand{\\braket}[1]{\\mathinner{\\langle{#1}\\rangle}}$\n",
    "$\\newcommand{\\Bra}[1]{\\left\\langle{#1}\\right|}$\n",
    "$\\newcommand{\\Ket}[1]{\\left|{#1}\\right\\rangle}$\n",
    "$\\DeclareMathOperator{\\CNOT}{CNOT}$\n",
    "\n",
    "# COMP 5075 Telecommunications and Device Security (2023)\n",
    "# Practical 2: Understanding measurements\n",
    "**Dr. Yee Wei Law**\n",
    "\n",
    "**Table of Contents**\n",
    "- [Introduction](#sec:intro)\n",
    "- [Positive operator-valued measure (POVM)](#sec:povm)\n",
    "  - [Task 1 (3 marks)](#t1)\n",
    "  - [Task 2 (2.5 marks)](#t2)\n",
    "  - [Task 3 (0 marks)](#t3)\n",
    "- [Axiomatic approach to quantum operations](#sec:axiomatic)\n",
    "  - [Task 4 (0 mark)](#t4)\n",
    "  - [Task 5 (5 marks)](#t5)\n",
    "- [Projective measurement](#sec:projective)\n",
    "  - [Task 6 (7 marks)](#t6)\n",
    "- [References](#sec:ref)"
   ]
  },
  {
   "attachments": {},
   "cell_type": "markdown",
   "id": "9da3e7e4",
   "metadata": {},
   "source": [
    "---\n",
    "## Introduction <a name=\"sec:intro\"></a>\n",
    "\n",
    "This practical picks up where Practical 1 has left off.\n",
    "\n",
    "The topics of entropies (Shannon and von Neumann) and density operator/matrix occupied the bulk of Practical 1; see the orange blocks in Fig. 1.\n",
    "\n",
    "<p align=\"center\"><img src=\"p2_concept-map.svg\"></p>\n",
    "Fig. 1: Conceptual building blocks of Practicals 1-3.\n",
    "\n",
    "This practical covers the green blocks in Fig. 1:\n",
    "- We shall continue from discussion of the density operator to the formulation of the *fundamental postulates of quantum mechanics* (including general/generalised measurement) in the language of the density operator.\n",
    "- Discussion of the fundamental postulates of quantum mechanics inevitably leads us to the discussion of measurement operators, for which we shall discuss the *positive operator-valued measure* (POVM), *axiomatic approach to quantum operations*, and *projective measurement*."
   ]
  },
  {
   "attachments": {},
   "cell_type": "markdown",
   "id": "8a973f58",
   "metadata": {},
   "source": [
    "---\n",
    "## Positive operator-valued measure (POVM) <a name=\"sec:povm\"></a>\n",
    "\n",
    "Follow coverage of the [positive operator-valued measure (POVM)](https://lo.unisa.edu.au/mod/glossary/showentry.php?eid=40515) in the Cyber Engineering Knowledge Base, and subsequently complete the following tasks."
   ]
  },
  {
   "attachments": {},
   "cell_type": "markdown",
   "id": "69055845",
   "metadata": {},
   "source": [
    "---\n",
    "### ❓ Task 1 (3 marks) <a name=\"t1\"></a>\n",
    "\n",
    "The purpose of this task is to implement [Example 1](https://lo.unisa.edu.au/mod/glossary/showentry.php?eid=40515#example1) using NumPy functions.\n",
    "\n",
    "Complete the code below to define the POVM elements $\\mathbf{E}_1$, $\\mathbf{E}_2$ and $\\mathbf{E}_3$; noting that\n",
    "- Lines 1-3 are worth 1 mark.\n",
    "- For Lines 1-2, make sure you use the `sqrt` function from NumPy, not SymPy.\n",
    "- For Line 3, use the [`identity`](https://numpy.org/doc/stable/reference/generated/numpy.identity.html) function from NumPy.\n",
    "- Do not change other lines of code or introduce additional lines of code."
   ]
  },
  {
   "cell_type": "code",
   "execution_count": null,
   "id": "fd15ca30",
   "metadata": {},
   "outputs": [
    {
     "ename": "",
     "evalue": "",
     "output_type": "error",
     "traceback": [
      "\u001b[1;31mRunning cells with 'c:\\Users\\Storm\\AppData\\Local\\Programs\\Python\\Python39\\python.exe' requires the ipykernel package.\n",
      "\u001b[1;31mRun the following command to install 'ipykernel' into the Python environment. \n",
      "\u001b[1;31mCommand: 'c:/Users/Storm/AppData/Local/Programs/Python/Python39/python.exe -m pip install ipykernel -U --user --force-reinstall'"
     ]
    }
   ],
   "source": [
    "ket0, ket1 = np.matrix([[1],[0]]), np.matrix([[0],[1]])\n",
    "E1 = ... # Line 1\n",
    "E2 = ... # Line 2\n",
    "E3 = ... # Line 3\n",
    "display(E1+E2+E3) # Sanity check"
   ]
  },
  {
   "attachments": {
    "e79b0e4b-c2eb-415d-9814-e857d672c7de.png": {
     "image/png": "[encoded data removed]"
    }
   },
   "cell_type": "markdown",
   "id": "31a04f45",
   "metadata": {},
   "source": [
    "Complete the code below to compute the six probabilities in [Example 1](https://lo.unisa.edu.au/mod/glossary/showentry.php?eid=40515#example1) starting with $\\Pr\\{1|\\psi_1\\}$; noting that\n",
    "- Lines 1-6 are worth 2 marks.\n",
    "- For each of Lines 1-6, use [`@`](https://peps.python.org/pep-0465/) for matrix multiplication and the function [`item`](https://numpy.org/doc/stable/reference/generated/numpy.ndarray.item.html) to convert a 1x1 matrix into a scalar.\n",
    "- For each of Lines 1-6, use the functions [`display`](https://ipython.readthedocs.io/en/stable/api/generated/IPython.display.html) and [`Math`](https://ipython.readthedocs.io/en/stable/api/generated/IPython.display.html) to display math expressions (where each XXX is to be replaced with the correct numeric value):\n",
    "\n",
    "![image.png](attachment:e79b0e4b-c2eb-415d-9814-e857d672c7de.png)\n",
    "- Do not change other lines of code or introduce additional lines of code."
   ]
  },
  {
   "cell_type": "code",
   "execution_count": null,
   "id": "c84f329e",
   "metadata": {},
   "outputs": [
    {
     "ename": "",
     "evalue": "",
     "output_type": "error",
     "traceback": [
      "\u001b[1;31mRunning cells with 'c:\\Users\\Storm\\AppData\\Local\\Programs\\Python\\Python39\\python.exe' requires the ipykernel package.\n",
      "\u001b[1;31mRun the following command to install 'ipykernel' into the Python environment. \n",
      "\u001b[1;31mCommand: 'c:/Users/Storm/AppData/Local/Programs/Python/Python39/python.exe -m pip install ipykernel -U --user --force-reinstall'"
     ]
    }
   ],
   "source": [
    "psi1, psi2 = ket0, 1/np.sqrt(2)*(ket0+ket1)\n",
    "\n",
    "display(Math('...' + str(...))) # Line 1\n",
    "display(Math('...' + str(...))) # Line 2\n",
    "display(Math('...' + str(...))) # Line 3\n",
    "display(Math('...' + str(...))) # Line 4\n",
    "display(Math('...' + str(...))) # Line 5\n",
    "display(Math('...' + str(...))) # Line 6"
   ]
  },
  {
   "attachments": {},
   "cell_type": "markdown",
   "id": "03bf19c6",
   "metadata": {},
   "source": [
    "---\n",
    "### ❓ Task 2 (2.5 marks) <a name=\"t2\"></a>\n",
    "\n",
    "Continuing from the previous task, suppose the POVM elements $\\mathbf{E}_1$, $\\mathbf{E}_2$ and $\\mathbf{E}_3$ are now replaced by\n",
    "$$ \\begin{align}\n",
    "   \\mathbf{F}_1 &= \\dfrac{\\sqrt{2}}{1+\\sqrt{2}}\\ket{0}\\bra{0}, \\\\\n",
    "   \\mathbf{F}_2 &= \\mathbf{E}_2, \\\\\n",
    "   \\mathbf{F}_3 &= \\mathbf{I} - \\mathbf{F}_1 - \\mathbf{F}_2.\\end{align} $$\n",
    "Complete the code below to determine whether $\\mathbf{F}_1$, $\\mathbf{F}_2$ and $\\mathbf{F}_3$ are valid POVM elements; noting that\n",
    "- Lines 1-2 are worth 0.5 marks because they are trivial.\n",
    "- Line 3 is worth 2 marks. This line displays crucial properties of $\\mathbf{F}_1$, $\\mathbf{F}_2$ and $\\mathbf{F}_3$ that indicate whether these matrices are [positive-semidefinite](https://lo.unisa.edu.au/mod/glossary/showentry.php?eid=40513). For the missing boolean expression, use the NumPy function [`all`](https://numpy.org/doc/stable/reference/generated/numpy.all.html) and boolean operators `not`/`and`/`or`.\n",
    "- Do not change other lines of code or introduce additional lines of code."
   ]
  },
  {
   "cell_type": "code",
   "execution_count": null,
   "id": "d8aed28c",
   "metadata": {},
   "outputs": [
    {
     "ename": "",
     "evalue": "",
     "output_type": "error",
     "traceback": [
      "\u001b[1;31mRunning cells with 'c:\\Users\\Storm\\AppData\\Local\\Programs\\Python\\Python39\\python.exe' requires the ipykernel package.\n",
      "\u001b[1;31mRun the following command to install 'ipykernel' into the Python environment. \n",
      "\u001b[1;31mCommand: 'c:/Users/Storm/AppData/Local/Programs/Python/Python39/python.exe -m pip install ipykernel -U --user --force-reinstall'"
     ]
    }
   ],
   "source": [
    "F1 = ... # Line 1\n",
    "F2 = E2\n",
    "F3 = ... # Line 2\n",
    "display(F1+F2+F3) # Sanity check\n",
    "print(\"F1, F2 and F3 positive-semidefinite? \" + str(...boolean expression...)) # Line 3"
   ]
  },
  {
   "attachments": {},
   "cell_type": "markdown",
   "id": "aae29983",
   "metadata": {},
   "source": [
    "---\n",
    "### ❓ Task 3 (0 marks) <a name=\"t3\"></a>\n",
    "\n",
    "Continuing from Task 1, suppose $\\Pr\\{\\ket{\\psi_1}\\}=0.4$ and $\\Pr\\{\\ket{\\psi_2}\\}=0.6$. By the law of total probability, how much is the overall probability of getting measurement 3?\n",
    "\n",
    "Type out your solution below. Use LaTeX to typeset mathematical expressions (0 mark otherwise).\n",
    "\n",
    "**Solution**: $\\Pr\\{3\\} = \\Pr\\{3|\\psi_1\\}\\Pr\\{\\ket{\\psi_1}\\} + \\Pr\\{3|\\psi_2\\}\\Pr\\{\\ket{\\psi_2}\\} = \\dfrac{1}{\\sqrt{2}}(0.4 + 0.6) = \\dfrac{1}{\\sqrt{2}}$."
   ]
  },
  {
   "attachments": {},
   "cell_type": "markdown",
   "id": "7868dadd",
   "metadata": {},
   "source": [
    "---\n",
    "## Axiomatic approach to quantum operations <a name=\"sec:axiomatic\"></a>\n",
    "\n",
    "Follow coverage of the [axiomatic approach to quantum operations](https://lo.unisa.edu.au/mod/glossary/showentry.php?eid=40972) in the Cyber Engineering Knowledge Base, and subsequently complete the following tasks."
   ]
  },
  {
   "attachments": {},
   "cell_type": "markdown",
   "id": "77fcf6a5",
   "metadata": {},
   "source": [
    "---\n",
    "### ❓ Task 4 (0 mark) <a name=\"t4\"></a>\n",
    "\n",
    "Referring to [[HXK20](#[HXK20])], what is the primary difficulty in simulating the evolution of open quantum systems using quantum algorithms?\n",
    "\n",
    "**Answer**: Based on [[HXK20](#[HXK20]), p. 1], the primary difficulty is while quantum algorithms are realised by unitary quantum gates (0.5 marks), the evolution of open quantum systems is generally not unitary (0.5 marks)."
   ]
  },
  {
   "attachments": {},
   "cell_type": "markdown",
   "id": "055fd0cf",
   "metadata": {},
   "source": [
    "---\n",
    "### ❓ Task 5 (5 marks) <a name=\"t5\"></a>\n",
    "\n",
    "Referring again to [[HXK20](#[HXK20])], the amplitude-damping channel, in operator-sum representation, models the spontaneous emission of a 2-level atom:\n",
    "$$ \\begin{align}\n",
    "    \\rho(t) &= \\mathbf{M}_0\\rho\\mathbf{M}_0^\\dagger + \\mathbf{M}_1\\rho\\mathbf{M}_1^\\dagger, \\tag{5.1} \\\\\n",
    "    \\mathbf{M}_0 &= \\frac{1+\\exp(-\\gamma t/2)}{2}\\mathbf{I} + \\frac{1-\\exp(-\\gamma t/2)}{2}\\sigma_z, \\tag{5.2} \\\\\n",
    "    \\mathbf{M}_1 &= \\sqrt{1-\\exp(-\\gamma t)}\\sigma^+. \\tag{5.3}\n",
    "\\end{align} $$\n",
    "\n",
    "Given $\\sigma_z$ is the Pauli-Z matrix and $\\sigma^+=\\ket{0}\\bra{1}$ is the Pauli raising operator (which appears in the discussion of harmonic oscillator, outside the scope of this course), complete the code below to show that\n",
    "- $\\mathbf{M}_0 = \\begin{bmatrix}1 & 0 \\\\ 0 & e^{-\\frac{\\gamma t}{2}}\\end{bmatrix}$,\n",
    "- $\\mathbf{M}_1 = \\begin{bmatrix}0 & \\sqrt{1-e^{-\\gamma t}} \\\\ 0 & 0\\end{bmatrix}$,\n",
    "- and the quantum operation is trace preserving.\n",
    "\n",
    "Note:\n",
    "- Use only SymPy functions and not NumPy.\n",
    "- Line 1 is worth 1 mark and it defines the symbols $\\gamma$ and $t$.\n",
    "- Lines 2-3 are worth 2 marks and they compute $\\mathbf{M}_0$ and $\\mathbf{M}_1$. \n",
    "- Line 4 is worth 2 marks and it displays $\\mathbf{M}_0$, $\\mathbf{M}_1$ and $\\sum_i\\mathbf{M}_i^\\dagger\\mathbf{M}_i$. Simplify the expression for $\\sum_i\\mathbf{M}_i^\\dagger\\mathbf{M}_i$ to as close to the identity matrix as possible, e.g., $\\begin{bmatrix}1 & 0 \\\\ 0 & |\\sqrt{1-e^{-\\gamma t}}|^2 + e^{-\\gamma t}\\end{bmatrix}$. Instead of `simplify`, use one of the `expand_*` functions listed [here](https://docs.sympy.org/latest/modules/core.html)."
   ]
  },
  {
   "cell_type": "code",
   "execution_count": null,
   "id": "da5b5e05",
   "metadata": {},
   "outputs": [
    {
     "ename": "",
     "evalue": "",
     "output_type": "error",
     "traceback": [
      "\u001b[1;31mRunning cells with 'c:\\Users\\Storm\\AppData\\Local\\Programs\\Python\\Python39\\python.exe' requires the ipykernel package.\n",
      "\u001b[1;31mRun the following command to install 'ipykernel' into the Python environment. \n",
      "\u001b[1;31mCommand: 'c:/Users/Storm/AppData/Local/Programs/Python/Python39/python.exe -m pip install ipykernel -U --user --force-reinstall'"
     ]
    }
   ],
   "source": [
    "gamma, t = ... # Line 1\n",
    "M0 = ... # Line 2\n",
    "M1 = ... # Line 3\n",
    "display(M0, M1, ...) # Line 4"
   ]
  },
  {
   "attachments": {},
   "cell_type": "markdown",
   "id": "1faf3e3d",
   "metadata": {},
   "source": [
    "---\n",
    "## Projective measurement <a name=\"sec:projective\"></a>\n",
    "\n",
    "Follow coverage of the [projective measurement](https://lo.unisa.edu.au/mod/glossary/showentry.php?eid=40521) in the Cyber Engineering Knowledge Base, and subsequently complete the following tasks.\n",
    "\n",
    "Let us use QuTiP to explore Example 1 in our discussion of [projective measurement](https://lo.unisa.edu.au/mod/glossary/showentry.php?eid=40521).\n",
    "\n",
    "Example 1 discusses the Pauli observable $\\mathbf{Z}$, which is implemented in the QuTiP function [`sigmaz`](https://qutip.org/docs/latest/apidoc/functions.html?highlight=sigmaz#qutip.operators.sigmaz).\n",
    "\n",
    "Suppose we are interested in the statistics of measuring $\\ket{0}$ using $\\mathbf{Z}$, we can invoke function [`measurement_statistics_observable`](https://qutip.org/docs/latest/apidoc/functions.html?highlight=measurement_statistics_observable#qutip.measurement.measurement_statistics_observable) on both $\\ket{0}$ and $\\mathbf{Z}$, as shown in the code below.\n",
    "\n",
    "In the code below,\n",
    "- [`basis(n,i)`](https://qutip.org/docs/latest/apidoc/functions.html?highlight=basis#qutip.states.basis) creates the $i$th basis vector of the $n$-dimensional Hilbert space, which by convention takes the form $[0 \\; \\cdots \\; 1 \\; \\cdots \\; 0]^\\top$, where the single 1 occupies the $i$th slot in the vector.\n",
    "- [`sigmaz()`](https://qutip.org/docs/latest/apidoc/functions.html?highlight=sigmaz#qutip.operators.sigmaz) instantiates a Pauli-Z matrix $\\sigma_z$.\n",
    "- [`measurement_statistics_observable(s, o)`](https://qutip.org/docs/latest/apidoc/functions.html?highlight=measurement_statistics_observable#qutip.measurement.measurement_statistics_observable) computes the statistics of measuring state `s` with observable `o`."
   ]
  },
  {
   "cell_type": "code",
   "execution_count": null,
   "id": "f59d9273",
   "metadata": {},
   "outputs": [
    {
     "ename": "",
     "evalue": "",
     "output_type": "error",
     "traceback": [
      "\u001b[1;31mRunning cells with 'c:\\Users\\Storm\\AppData\\Local\\Programs\\Python\\Python39\\python.exe' requires the ipykernel package.\n",
      "\u001b[1;31mRun the following command to install 'ipykernel' into the Python environment. \n",
      "\u001b[1;31mCommand: 'c:/Users/Storm/AppData/Local/Programs/Python/Python39/python.exe -m pip install ipykernel -U --user --force-reinstall'"
     ]
    }
   ],
   "source": [
    "from qutip import basis, sigmaz\n",
    "from qutip.measurement import measurement_statistics_observable\n",
    "\n",
    "display(measurement_statistics_observable(basis(2,0), sigmaz()))"
   ]
  },
  {
   "attachments": {},
   "cell_type": "markdown",
   "id": "d00e7458",
   "metadata": {},
   "source": [
    "Upon executing the code above, expect to get three outputs. Based on the explanation [here](https://qutip.org/docs/latest/guide/guide-measurement.html#obtaining-measurement-statistics-observable),\n",
    "- The first output is an array of eigenvalues of observable $\\sigma_z$.\n",
    "- The second output is an array of eigenvectors of $\\sigma_z$, which are also called the *eigenstates*. These are the possible final states once the measurement is complete.\n",
    "- The third output is an array of probabilities of the eigenstates.\n",
    "\n",
    "Therefore,\n",
    "- In the example above, applying observable $\\sigma_z$ to basis state $\\ket{0}$ always returns result $1$ and the final eigenstate is $-\\ket{0}$, which is equivalent to $\\ket{0}$ barring a phase difference.\n",
    "- In the example below, applying observable $\\sigma_z$ to basis state $\\ket{1}$ always returns result $-1$ and the final eigenstate is $-\\ket{1}$, which is equivalent to $\\ket{1}$ barring a phase difference.\n",
    "- Consider what $\\sigma_z$ is useful for when it essentially does nothing to the standard basis vectors — it is mentioned [here](https://lo.unisa.edu.au/mod/glossary/showentry.php?eid=40521)."
   ]
  },
  {
   "cell_type": "code",
   "execution_count": null,
   "id": "b29354d2",
   "metadata": {},
   "outputs": [
    {
     "ename": "",
     "evalue": "",
     "output_type": "error",
     "traceback": [
      "\u001b[1;31mRunning cells with 'c:\\Users\\Storm\\AppData\\Local\\Programs\\Python\\Python39\\python.exe' requires the ipykernel package.\n",
      "\u001b[1;31mRun the following command to install 'ipykernel' into the Python environment. \n",
      "\u001b[1;31mCommand: 'c:/Users/Storm/AppData/Local/Programs/Python/Python39/python.exe -m pip install ipykernel -U --user --force-reinstall'"
     ]
    }
   ],
   "source": [
    "display(measurement_statistics_observable(basis(2,1), sigmaz()))"
   ]
  },
  {
   "attachments": {},
   "cell_type": "markdown",
   "id": "4e1e3ea8",
   "metadata": {},
   "source": [
    "---\n",
    "### ❓ Task 6 (7 marks) <a name=\"t6\"></a>\n",
    "\n",
    "Let us use QuTiP to explore Example 2 in our discussion of [projective measurement](https://lo.unisa.edu.au/mod/glossary/showentry.php?eid=40521).\n",
    "\n",
    "In the code below,\n",
    "- `rho_epr` is the Einstein–Podolsky–Rosen (EPR) state $\\frac{1}{\\sqrt{2}}(|00\\rangle+|11\\rangle)$ instantiated using the function [`bell_state`](https://qutip.org/docs/latest/apidoc/functions.html?highlight=bell_state#qutip.states.bell_state), converted from a ket vector to a density matrix using [`ket2dm`](https://qutip.org/docs/latest/apidoc/functions.html?highlight=ket2dm#qutip.states.ket2dm).\n",
    "\n",
    "Complete the rest of the code, noting that\n",
    "- Line 1 is worth 2 marks and it instantiates $|00\\rangle$, $|01\\rangle$, $|10\\rangle$ and $|11\\rangle$ using the function [`ket`](https://qutip.org/docs/latest/apidoc/functions.html?highlight=ket#qutip.states.ket). `ket` creates a ket vector of specified dimensions. Your mission here is to figure out, based on the [official documentation](https://qutip.org/docs/latest/apidoc/functions.html?highlight=ket#qutip.states.ket), the two arguments to feed into `ket` to create the required two-qubit ket vectors.\n",
    "- Line 2 is worth 1 mark and it creates the orthogonal projectors $\\mathbf{A}_{\\text{even}} = |00\\rangle\\langle00| + |11\\rangle\\langle11|$ and $\\mathbf{A}_{\\text{odd}} = |01\\rangle\\langle01| + |10\\rangle\\langle10|$ using the function `ket2dm`.\n",
    "- Line 3 is worth 1 mark and it invokes `measurement_statistics_observable` on 1️⃣ the EPR state `rho_epr` and 2️⃣ the observable that you provide as the second argument. Spend some time thinking what this observable (matrix) should be — it is a rudimentary matrix but it is not $\\sigma_x$, $\\sigma_y$ or $\\sigma_z$. The function for defining this matrix is listed [here](https://qutip.org/docs/latest/guide/guide-basics.html?highlight=qeye#states-and-operators).\n",
    "- Line 4 is worth 2 marks and it computes `proj[0]*prob[0]+proj[1]*prob[1]+proj[2]*prob[2]+proj[3]*prob[3]` without hardcoding the number of terms. Use the Python  functions `sum` and `zip`.\n",
    "- Line 5 is worth 1 mark and it invokes [`measurement_statistics_povm`](https://qutip.org/docs/latest/apidoc/functions.html?highlight=measurement_statistics_povm#qutip.measurement.measurement_statistics_povm) to perform projective measurement. ⚠ Since $\\mathbf{A}_{\\text{even}}$, $\\mathbf{A}_{\\text{odd}}$ are projectors, they are good for both POVM and projective measurement."
   ]
  },
  {
   "cell_type": "code",
   "execution_count": null,
   "id": "112e1314",
   "metadata": {},
   "outputs": [
    {
     "ename": "",
     "evalue": "",
     "output_type": "error",
     "traceback": [
      "\u001b[1;31mRunning cells with 'c:\\Users\\Storm\\AppData\\Local\\Programs\\Python\\Python39\\python.exe' requires the ipykernel package.\n",
      "\u001b[1;31mRun the following command to install 'ipykernel' into the Python environment. \n",
      "\u001b[1;31mCommand: 'c:/Users/Storm/AppData/Local/Programs/Python/Python39/python.exe -m pip install ipykernel -U --user --force-reinstall'"
     ]
    }
   ],
   "source": [
    "import qutip as qt\n",
    "from qutip.measurement import measurement_statistics_observable, measurement_statistics_povm\n",
    "\n",
    "rho_epr = qt.ket2dm(qt.bell_state())\n",
    "display(\"EPR:\", rho_epr)\n",
    "\n",
    "ket00, ket01, ket10, ket11 = ..., ..., ..., ... # Line 1\n",
    "Aeven, Aodd = ..., ... # Line 2\n",
    "display(\"Projectors:\", Aeven, Aodd)\n",
    "\n",
    "ignored, proj, prob = measurement_statistics_observable(rho_epr, ...)) # Line 3\n",
    "display(\"Measurement in standard basis:\", ...) # Line 4\n",
    "display(\"Measurement in standard basis (validation):\", 0.5*qt.ket2dm(ket00)+ 0.5*qt.ket2dm(ket11))\n",
    " \n",
    "display(\"Measurement by projection:\", ...) # Line 5\n",
    "display(\"Measurement by projection (validation):\", rho_epr)"
   ]
  },
  {
   "attachments": {},
   "cell_type": "markdown",
   "id": "8a617551",
   "metadata": {},
   "source": [
    "---\n",
    "## References <a name=\"sec:ref\"></a>\n",
    "\n",
    "<a name=\"[HXK20]\"></a>[HXK20] Z. Hu, R. Xia, and S. Kais, A quantum algorithm for evolving open quantum dynamics on quantum computing devices, *Sci Rep* **10** (2020), 3301. https://doi.org/10.1038/s41598-020-60321-x."
   ]
  }
 ],
 "metadata": {
  "kernelspec": {
   "display_name": "Python 3 (ipykernel)",
   "language": "python",
   "name": "python3"
  },
  "language_info": {
   "codemirror_mode": {
    "name": "ipython",
    "version": 3
   },
   "file_extension": ".py",
   "mimetype": "text/x-python",
   "name": "python",
   "nbconvert_exporter": "python",
   "pygments_lexer": "ipython3",
   "version": "3.9.5"
  }
 },
 "nbformat": 4,
 "nbformat_minor": 5
}
